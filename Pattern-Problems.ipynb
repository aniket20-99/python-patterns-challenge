{
 "cells": [
  {
   "cell_type": "code",
   "execution_count": 6,
   "id": "bc5a8d7e-a0f9-45ed-8cb7-f37642f955c1",
   "metadata": {},
   "outputs": [
    {
     "name": "stdin",
     "output_type": "stream",
     "text": [
      "Enter your number: 6\n"
     ]
    },
    {
     "name": "stdout",
     "output_type": "stream",
     "text": [
      "* * * * * * "
     ]
    }
   ],
   "source": [
    "# Pattern:- 1\n",
    "num = int(input('Enter your number:'))\n",
    "\n",
    "for i in range(num):\n",
    "    print('*',end = ' ')"
   ]
  },
  {
   "cell_type": "code",
   "execution_count": 16,
   "id": "1cb27e35-1f51-448c-bb0f-80369b252875",
   "metadata": {},
   "outputs": [
    {
     "name": "stdin",
     "output_type": "stream",
     "text": [
      "Enter no rows: 5\n"
     ]
    },
    {
     "name": "stdout",
     "output_type": "stream",
     "text": [
      "* * * * * \n",
      "* * * * * \n",
      "* * * * * \n",
      "* * * * * \n",
      "* * * * * \n"
     ]
    }
   ],
   "source": [
    "# Pattern:- 2\n",
    "num = int(input('Enter no rows:'))\n",
    "\n",
    "for i in range(num):\n",
    "    print(\"* \" * num)\n",
    "    \n"
   ]
  },
  {
   "cell_type": "code",
   "execution_count": 20,
   "id": "34ebe083-6d6a-4873-a4b7-9f9e13b520ee",
   "metadata": {},
   "outputs": [
    {
     "name": "stdin",
     "output_type": "stream",
     "text": [
      "Enter no rows: 5\n"
     ]
    },
    {
     "name": "stdout",
     "output_type": "stream",
     "text": [
      "* * * * * \n",
      "* * * * * \n",
      "* * * * * \n",
      "* * * * * \n",
      "* * * * * \n"
     ]
    }
   ],
   "source": [
    "# Pattern:- 3\n",
    "num = int(input('Enter no rows:'))\n",
    "\n",
    "for i in range(num):\n",
    "    print(\"* \" * num)"
   ]
  },
  {
   "cell_type": "code",
   "execution_count": 25,
   "id": "565c24c3-e8a1-4f3f-bb02-26452e80e715",
   "metadata": {},
   "outputs": [
    {
     "name": "stdin",
     "output_type": "stream",
     "text": [
      "Enter no rows: 5\n"
     ]
    },
    {
     "name": "stdout",
     "output_type": "stream",
     "text": [
      "5 5 5 5 5 \n",
      "5 5 5 5 5 \n",
      "5 5 5 5 5 \n",
      "5 5 5 5 5 \n",
      "5 5 5 5 5 \n"
     ]
    }
   ],
   "source": [
    "# Pattern:- 4\n",
    "num = int(input('Enter no rows:'))\n",
    "\n",
    "for i in range(num):\n",
    "    print((str(num) + ' ') * num)"
   ]
  },
  {
   "cell_type": "code",
   "execution_count": 32,
   "id": "053a8a0d-4485-418d-925a-5d8569d7f7bf",
   "metadata": {},
   "outputs": [
    {
     "name": "stdin",
     "output_type": "stream",
     "text": [
      "Enter no rows: 5\n"
     ]
    },
    {
     "name": "stdout",
     "output_type": "stream",
     "text": [
      "1 1 1 1 1 \n",
      "2 2 2 2 2 \n",
      "3 3 3 3 3 \n",
      "4 4 4 4 4 \n",
      "5 5 5 5 5 \n"
     ]
    }
   ],
   "source": [
    "# Pattern:- 5\n",
    "num = int(input('Enter no rows:'))\n",
    "\n",
    "for i in range(num):\n",
    "    print((str(i + 1) + ' ') * (num))"
   ]
  },
  {
   "cell_type": "code",
   "execution_count": 41,
   "id": "df89a516-8e22-4477-aabd-26910da050b5",
   "metadata": {},
   "outputs": [
    {
     "name": "stdin",
     "output_type": "stream",
     "text": [
      "Enter no rows: 5\n"
     ]
    },
    {
     "name": "stdout",
     "output_type": "stream",
     "text": [
      "* \n",
      "* * \n",
      "* * * \n",
      "* * * * \n",
      "* * * * * \n"
     ]
    }
   ],
   "source": [
    "# Pattern:- 6\n",
    "num = int(input('Enter no rows:'))\n",
    "\n",
    "for i in range(num):\n",
    "    print('* ' * (i+1))"
   ]
  },
  {
   "cell_type": "code",
   "execution_count": 44,
   "id": "cff5f658-3f53-49c1-a9d2-8bb7e329b373",
   "metadata": {},
   "outputs": [
    {
     "name": "stdin",
     "output_type": "stream",
     "text": [
      "Enter no rows: 5\n"
     ]
    },
    {
     "name": "stdout",
     "output_type": "stream",
     "text": [
      "5 \n",
      "5 5 \n",
      "5 5 5 \n",
      "5 5 5 5 \n",
      "5 5 5 5 5 \n"
     ]
    }
   ],
   "source": [
    "# Pattern:- 7\n",
    "num = int(input('Enter no rows:'))\n",
    "\n",
    "for i in range(num):\n",
    "    print((str(num) + ' ') * (i+1))"
   ]
  },
  {
   "cell_type": "code",
   "execution_count": 45,
   "id": "f62e2021-0b0e-4c0b-8d91-78460f4ca346",
   "metadata": {},
   "outputs": [
    {
     "name": "stdin",
     "output_type": "stream",
     "text": [
      "Enter no rows: 4\n"
     ]
    },
    {
     "name": "stdout",
     "output_type": "stream",
     "text": [
      "1 \n",
      "2 2 \n",
      "3 3 3 \n",
      "4 4 4 4 \n"
     ]
    }
   ],
   "source": [
    "# Pattern:- 7\n",
    "num = int(input('Enter no rows:'))\n",
    "\n",
    "for i in range(num):\n",
    "    print((str(i+1) + ' ') * (i+1))"
   ]
  },
  {
   "cell_type": "code",
   "execution_count": 47,
   "id": "ad86258d-8950-4cf8-bda9-1e46d61dd6d7",
   "metadata": {},
   "outputs": [
    {
     "name": "stdin",
     "output_type": "stream",
     "text": [
      "Enter your rows 5\n"
     ]
    },
    {
     "name": "stdout",
     "output_type": "stream",
     "text": [
      "A A A A A \n",
      "A A A A A \n",
      "A A A A A \n",
      "A A A A A \n",
      "A A A A A \n"
     ]
    }
   ],
   "source": [
    "# Pattern:- 8\n",
    "n = int(input('Enter your rows'))\n",
    "\n",
    "for i in range(n):\n",
    "    print('A ' * n)"
   ]
  },
  {
   "cell_type": "code",
   "execution_count": 50,
   "id": "8b5527bf-6ee4-4422-bbfd-280f93ff529f",
   "metadata": {},
   "outputs": [
    {
     "name": "stdin",
     "output_type": "stream",
     "text": [
      "Enter no rows: 7\n"
     ]
    },
    {
     "name": "stdout",
     "output_type": "stream",
     "text": [
      "1 \n",
      "2 2 \n",
      "3 3 3 \n",
      "4 4 4 4 \n",
      "5 5 5 5 5 \n",
      "6 6 6 6 6 6 \n",
      "7 7 7 7 7 7 7 \n"
     ]
    }
   ],
   "source": [
    "# Pattern:- 9\n",
    "num = int(input('Enter no rows:'))\n",
    "\n",
    "for i in range(num):\n",
    "    print((str((i+1)) + ' ') * (i+1))"
   ]
  },
  {
   "cell_type": "code",
   "execution_count": 54,
   "id": "b8b243d2-6eea-412e-bbf3-c975e871b4bb",
   "metadata": {},
   "outputs": [
    {
     "name": "stdin",
     "output_type": "stream",
     "text": [
      "Enter your rows 5\n"
     ]
    },
    {
     "name": "stdout",
     "output_type": "stream",
     "text": [
      "A A A A A \n",
      "A A A A A \n",
      "A A A A A \n",
      "A A A A A \n",
      "A A A A A \n"
     ]
    }
   ],
   "source": [
    "# Pattern:- 10\n",
    "n = int(input('Enter your rows'))\n",
    "\n",
    "for i in range(n):\n",
    "    print('A ' * n)"
   ]
  },
  {
   "cell_type": "code",
   "execution_count": 59,
   "id": "c984e322-61d0-4991-b30a-177f3f8415d8",
   "metadata": {},
   "outputs": [
    {
     "name": "stdin",
     "output_type": "stream",
     "text": [
      "Enter your rows 5\n"
     ]
    },
    {
     "name": "stdout",
     "output_type": "stream",
     "text": [
      "A A A A A \n",
      "B B B B B \n",
      "C C C C C \n",
      "D D D D D \n",
      "E E E E E \n"
     ]
    }
   ],
   "source": [
    "# Pattern:- 11\n",
    "# Unique code for a character \n",
    "# To convert unique code to char use chr(unique code)\n",
    "n = int(input('Enter your rows'))\n",
    "for i  in range(n):# i = 0,1,2,3\n",
    "    print((chr(65+i) + ' ') * n )"
   ]
  },
  {
   "cell_type": "code",
   "execution_count": 85,
   "id": "9de2a94a-4aab-4ae7-acac-ed1e25c3c86a",
   "metadata": {},
   "outputs": [
    {
     "name": "stdin",
     "output_type": "stream",
     "text": [
      "Enter your no 5\n"
     ]
    },
    {
     "name": "stdout",
     "output_type": "stream",
     "text": [
      "1 2 3 4 5 \n",
      "1 2 3 4 5 \n",
      "1 2 3 4 5 \n",
      "1 2 3 4 5 \n",
      "1 2 3 4 5 \n"
     ]
    }
   ],
   "source": [
    "# Pattern:- 12\n",
    "n =  int(input('Enter your no'))\n",
    "\n",
    "for i in range(n): # i = 0,1,2\n",
    "    for j in range(n):# = 0,1,2\n",
    "        print(str(j+1),end = ' ')\n",
    "\n",
    "    print()"
   ]
  },
  {
   "cell_type": "code",
   "execution_count": 102,
   "id": "08019aac-5d10-4f37-bc45-c186293f217b",
   "metadata": {},
   "outputs": [
    {
     "name": "stdin",
     "output_type": "stream",
     "text": [
      "Enter your no 5\n"
     ]
    },
    {
     "name": "stdout",
     "output_type": "stream",
     "text": [
      "A  B  C  D  E  \n",
      "A  B  C  D  E  \n",
      "A  B  C  D  E  \n",
      "A  B  C  D  E  \n",
      "A  B  C  D  E  \n"
     ]
    }
   ],
   "source": [
    "# Pattern:- 13\n",
    "n = int(input('Enter your no'))\n",
    "\n",
    "for i in range(n):\n",
    "    for j in range(n):\n",
    "        print((chr(65 + j) + ' '),end = ' ')\n",
    "    print()"
   ]
  },
  {
   "cell_type": "code",
   "execution_count": 100,
   "id": "415528fa-ae20-4538-88c9-692501f0cb00",
   "metadata": {},
   "outputs": [
    {
     "name": "stdin",
     "output_type": "stream",
     "text": [
      "Enter your rows 5\n"
     ]
    },
    {
     "name": "stdout",
     "output_type": "stream",
     "text": [
      "5 5 5 5 5 \n",
      "4 4 4 4 4 \n",
      "3 3 3 3 3 \n",
      "2 2 2 2 2 \n",
      "1 1 1 1 1 \n"
     ]
    }
   ],
   "source": [
    "# Pattern:- 14\n",
    "n = int(input('Enter your rows'))\n",
    "\n",
    "for i in range(n):\n",
    "    print((str(n-i)+ ' ') *n)"
   ]
  },
  {
   "cell_type": "code",
   "execution_count": 119,
   "id": "dc52efac-3bdb-4380-a24e-c4332d236514",
   "metadata": {},
   "outputs": [
    {
     "name": "stdin",
     "output_type": "stream",
     "text": [
      "Enter your rows 5\n"
     ]
    },
    {
     "name": "stdout",
     "output_type": "stream",
     "text": [
      "5  4  3  2  1  \n",
      "5  4  3  2  1  \n",
      "5  4  3  2  1  \n",
      "5  4  3  2  1  \n",
      "5  4  3  2  1  \n"
     ]
    }
   ],
   "source": [
    "# Pattern:- 15\n",
    "n = int(input('Enter your rows'))\n",
    "\n",
    "for i in range(n):\n",
    "    for j in range(n):\n",
    "        print((str(n-j)+ ' '),end = ' ')\n",
    "    print()"
   ]
  },
  {
   "cell_type": "code",
   "execution_count": 121,
   "id": "15518ce0-099b-4178-a4bd-f0c0d9b49f62",
   "metadata": {},
   "outputs": [
    {
     "name": "stdin",
     "output_type": "stream",
     "text": [
      "Enter your rows 5\n"
     ]
    },
    {
     "name": "stdout",
     "output_type": "stream",
     "text": [
      "E E E E E \n",
      "D D D D D \n",
      "C C C C C \n",
      "B B B B B \n",
      "A A A A A \n"
     ]
    }
   ],
   "source": [
    "# Pattern:- 16\n",
    "n = int(input('Enter your rows'))\n",
    "\n",
    "for i in range(n): # 0,1,2\n",
    "    print((chr(64 + n - i)+ ' ')*n)"
   ]
  },
  {
   "cell_type": "code",
   "execution_count": 129,
   "id": "ed14b20f-a5c1-4f06-b108-7c080b651d5a",
   "metadata": {},
   "outputs": [
    {
     "name": "stdin",
     "output_type": "stream",
     "text": [
      "Enter your number 5\n"
     ]
    },
    {
     "name": "stdout",
     "output_type": "stream",
     "text": [
      "E  D  C  B  A  \n",
      "E  D  C  B  A  \n",
      "E  D  C  B  A  \n",
      "E  D  C  B  A  \n",
      "E  D  C  B  A  \n"
     ]
    }
   ],
   "source": [
    "# Pattern:- 17\n",
    "n =  int(input('Enter your number'))\n",
    "for i in range(n):\n",
    "    for j in range(n):\n",
    "        print((chr(64 + n - j)+ ' '),end = ' ')\n",
    "    print()"
   ]
  },
  {
   "cell_type": "code",
   "execution_count": 133,
   "id": "5b65ef39-03f0-4df5-b784-6d851ba8f3d5",
   "metadata": {},
   "outputs": [
    {
     "name": "stdin",
     "output_type": "stream",
     "text": [
      "Enter your rows 5\n"
     ]
    },
    {
     "name": "stdout",
     "output_type": "stream",
     "text": [
      "5 4 3 2 1 \n",
      "5 4 3 2 1 \n",
      "5 4 3 2 1 \n",
      "5 4 3 2 1 \n",
      "5 4 3 2 1 \n"
     ]
    }
   ],
   "source": [
    "# Pattern:- 18\n",
    "n = int(input('Enter your rows'))\n",
    "\n",
    "for i in range(n):\n",
    "    for j in range(n):\n",
    "        print(n-j,end = ' ')\n",
    "    print()"
   ]
  },
  {
   "cell_type": "code",
   "execution_count": 142,
   "id": "872eb03e-e9a1-4158-b499-b1dc2ca4cc61",
   "metadata": {},
   "outputs": [
    {
     "name": "stdin",
     "output_type": "stream",
     "text": [
      "Enter your number 5\n"
     ]
    },
    {
     "name": "stdout",
     "output_type": "stream",
     "text": [
      "* \n",
      "* * \n",
      "* * * \n",
      "* * * * \n",
      "* * * * * \n"
     ]
    }
   ],
   "source": [
    "# Pattern:- 19\n",
    "n = int(input('Enter your number'))\n",
    "\n",
    "for i in range(n): # 0,1,2\n",
    "    for i in range(i+1):\n",
    "        print('*', end = ' ')\n",
    "    print()\n"
   ]
  },
  {
   "cell_type": "code",
   "execution_count": 152,
   "id": "d0ed2288-ff8b-4c31-9156-ace600d0881c",
   "metadata": {},
   "outputs": [
    {
     "name": "stdin",
     "output_type": "stream",
     "text": [
      "Enter your number 5\n"
     ]
    },
    {
     "name": "stdout",
     "output_type": "stream",
     "text": [
      "1 \n",
      "2 2 \n",
      "3 3 3 \n",
      "4 4 4 4 \n",
      "5 5 5 5 5 \n"
     ]
    },
    {
     "name": "stdin",
     "output_type": "stream",
     "text": [
      "Enter your number 5\n"
     ]
    },
    {
     "name": "stdout",
     "output_type": "stream",
     "text": [
      "1 \n",
      "2 2 \n",
      "3 3 3 \n",
      "4 4 4 4 \n",
      "5 5 5 5 5 \n",
      "\n"
     ]
    }
   ],
   "source": [
    "# Pattern:- 20\n",
    "\n",
    "n = int(input('Enter your number'))\n",
    "\n",
    "for i in range(n):\n",
    "    for j in range(i+1):\n",
    "        print(i+1,end = ' ')\n",
    "    print()\n",
    "\n",
    "#2nd method\n",
    "\n",
    "n = int(input('Enter your number'))\n",
    "\n",
    "for i in range(n):\n",
    "    print((str(i+1)+ ' ') * (i+1))\n",
    "print()"
   ]
  },
  {
   "cell_type": "code",
   "execution_count": 15,
   "id": "a675e0a7-f3aa-4400-b5ef-329b41c24ab9",
   "metadata": {},
   "outputs": [
    {
     "name": "stdin",
     "output_type": "stream",
     "text": [
      "Enter your rows 5\n"
     ]
    },
    {
     "name": "stdout",
     "output_type": "stream",
     "text": [
      "A \n",
      "B B \n",
      "C C C \n",
      "D D D D \n",
      "E E E E E \n"
     ]
    }
   ],
   "source": [
    "# Pattern:- 21\n",
    "n = int(input('Enter your rows'))\n",
    "for i in range(n):\n",
    "    print((chr(65 + i)+ ' ')*(i+1))\n",
    "    "
   ]
  },
  {
   "cell_type": "code",
   "execution_count": 29,
   "id": "9834d9ad-c757-4251-827f-cb69a8457292",
   "metadata": {},
   "outputs": [
    {
     "name": "stdin",
     "output_type": "stream",
     "text": [
      "Enter your rows 5\n"
     ]
    },
    {
     "name": "stdout",
     "output_type": "stream",
     "text": [
      "1 \n",
      "1 2 \n",
      "1 2 3 \n",
      "1 2 3 4 \n",
      "1 2 3 4 5 \n"
     ]
    }
   ],
   "source": [
    "# Pattern:- 22\n",
    "n = int(input('Enter your rows'))\n",
    "\n",
    "for i in range(n):\n",
    "    for j in range(i+1):\n",
    "        print(j+1,end = ' ')\n",
    "    print()"
   ]
  },
  {
   "cell_type": "code",
   "execution_count": 35,
   "id": "3fcfffc3-81f2-4bac-968f-b2bab4ac20a4",
   "metadata": {},
   "outputs": [
    {
     "name": "stdin",
     "output_type": "stream",
     "text": [
      "Enter your rows 5\n"
     ]
    },
    {
     "name": "stdout",
     "output_type": "stream",
     "text": [
      "A  \n",
      "A  B  \n",
      "A  B  C  \n",
      "A  B  C  D  \n",
      "A  B  C  D  E  \n"
     ]
    }
   ],
   "source": [
    "# Pattern:- 23\n",
    "n = int(input('Enter your rows'))\n",
    "\n",
    "for i in range(n):\n",
    "    for j in range(i+1):\n",
    "        print(chr(65+j)+ ' ',end = ' ')\n",
    "    print()"
   ]
  },
  {
   "cell_type": "code",
   "execution_count": 45,
   "id": "4743a9ff-4f76-4bd0-a930-2740950a7a6c",
   "metadata": {},
   "outputs": [
    {
     "name": "stdin",
     "output_type": "stream",
     "text": [
      "Enter your rows 5\n"
     ]
    },
    {
     "name": "stdout",
     "output_type": "stream",
     "text": [
      "5 \n",
      "5 4 \n",
      "5 4 3 \n",
      "5 4 3 2 \n",
      "5 4 3 2 1 \n"
     ]
    }
   ],
   "source": [
    "# Pattern:- 24\n",
    "n = int(input('Enter your rows'))\n",
    "for i in range(n):\n",
    "    for j in range(i+1):\n",
    "        print(n-j,end = ' ' )\n",
    "    print()"
   ]
  },
  {
   "cell_type": "code",
   "execution_count": 79,
   "id": "ad2acab0-a1c3-4afe-b35c-fd7fc21c9209",
   "metadata": {},
   "outputs": [
    {
     "name": "stdin",
     "output_type": "stream",
     "text": [
      "Enter your rows 5\n"
     ]
    },
    {
     "name": "stdout",
     "output_type": "stream",
     "text": [
      "E  \n",
      "E  D  \n",
      "E  D  C  \n",
      "E  D  C  B  \n",
      "E  D  C  B  A  \n"
     ]
    }
   ],
   "source": [
    "# Pattern:- 25\n",
    "n =  int(input('Enter your rows'))\n",
    "for i in range(n):\n",
    "    for j in range(i+1):\n",
    "        print(chr(64 + n -j)+ ' ',end = ' ')\n",
    "    print()"
   ]
  },
  {
   "cell_type": "code",
   "execution_count": 81,
   "id": "f906d593-f6f3-440e-93a4-e0dbb12e2ad5",
   "metadata": {},
   "outputs": [
    {
     "name": "stdin",
     "output_type": "stream",
     "text": [
      "Enter your rows 5\n"
     ]
    },
    {
     "name": "stdout",
     "output_type": "stream",
     "text": [
      "* * * * * \n",
      "* * * * \n",
      "* * * \n",
      "* * \n",
      "* \n"
     ]
    }
   ],
   "source": [
    "# Pattern:- 26\n",
    "n  = int(input('Enter your rows'))\n",
    "\n",
    "for i in range(n):\n",
    "    print('* ' * (n-i))"
   ]
  },
  {
   "cell_type": "code",
   "execution_count": 89,
   "id": "76d3a3b7-9632-4f56-9e2e-1cb66299d49e",
   "metadata": {},
   "outputs": [
    {
     "name": "stdin",
     "output_type": "stream",
     "text": [
      "Enter your rows 5\n"
     ]
    },
    {
     "name": "stdout",
     "output_type": "stream",
     "text": [
      "1 1 1 1 1 \n",
      "2 2 2 2 \n",
      "3 3 3 \n",
      "4 4 \n",
      "5 \n"
     ]
    }
   ],
   "source": [
    "# Pattern:- 27\n",
    "n  = int(input('Enter your rows'))\n",
    "\n",
    "for i in range(n):\n",
    "    print((str(i + 1)+ ' ')* (n-i))"
   ]
  },
  {
   "cell_type": "code",
   "execution_count": 97,
   "id": "38d686ae-4fd3-485c-9f58-b02c94f72f7d",
   "metadata": {},
   "outputs": [
    {
     "name": "stdin",
     "output_type": "stream",
     "text": [
      "Enter your rows 5\n"
     ]
    },
    {
     "name": "stdout",
     "output_type": "stream",
     "text": [
      "A A A A A \n",
      "B B B B \n",
      "C C C \n",
      "D D \n",
      "E \n"
     ]
    }
   ],
   "source": [
    "# Pattern:- 28\n",
    "n = int(input('Enter your rows'))\n",
    "\n",
    "for i in range(n):\n",
    "    print((chr(65+i)+ ' ')*(n-i))"
   ]
  },
  {
   "cell_type": "code",
   "execution_count": 100,
   "id": "b2cdc028-b35a-4a93-a02c-f14fd74492d7",
   "metadata": {},
   "outputs": [
    {
     "name": "stdin",
     "output_type": "stream",
     "text": [
      "Enter your rows 5\n"
     ]
    },
    {
     "name": "stdout",
     "output_type": "stream",
     "text": [
      "5 5 5 5 5 \n",
      "4 4 4 4 \n",
      "3 3 3 \n",
      "2 2 \n",
      "1 \n"
     ]
    }
   ],
   "source": [
    "# Pattern:- 29\n",
    "n = int(input('Enter your rows'))\n",
    "\n",
    "for i in range(n):\n",
    "    print((str(n-i)+ ' ')*(n-i))"
   ]
  },
  {
   "cell_type": "code",
   "execution_count": 105,
   "id": "62f88187-ebfd-44cd-b1e6-3f8001cf2432",
   "metadata": {},
   "outputs": [
    {
     "name": "stdin",
     "output_type": "stream",
     "text": [
      "Enter your rows 5\n"
     ]
    },
    {
     "name": "stdout",
     "output_type": "stream",
     "text": [
      "E E E E E \n",
      "D D D D \n",
      "C C C \n",
      "B B \n",
      "A \n"
     ]
    }
   ],
   "source": [
    "# Pattern:- 30\n",
    "n = int(input('Enter your rows'))\n",
    "\n",
    "for i in range(n):\n",
    "    print((chr(64 + n -i)+ ' ')*(n-i))"
   ]
  },
  {
   "cell_type": "code",
   "execution_count": 125,
   "id": "e1f5d011-c6d9-4393-96f6-b684c1e625da",
   "metadata": {},
   "outputs": [
    {
     "name": "stdin",
     "output_type": "stream",
     "text": [
      "Enter your rows 5\n"
     ]
    },
    {
     "name": "stdout",
     "output_type": "stream",
     "text": [
      "1 2 3 4 5 \n",
      "1 2 3 4 \n",
      "1 2 3 \n",
      "1 2 \n",
      "1 \n"
     ]
    }
   ],
   "source": [
    "# Pattern:- 31\n",
    "n = int(input(\"Enter your rows\"))\n",
    "for i in range(n):\n",
    "    for j in range(n-i):\n",
    "        print(j+1,end = ' ')\n",
    "    print()"
   ]
  },
  {
   "cell_type": "code",
   "execution_count": 136,
   "id": "9ce1b1ef-1d9c-4cec-8f32-5e39343d8bc8",
   "metadata": {},
   "outputs": [
    {
     "name": "stdin",
     "output_type": "stream",
     "text": [
      "Enter your rows 7\n"
     ]
    },
    {
     "name": "stdout",
     "output_type": "stream",
     "text": [
      "A  B  C  D  E  F  G  \n",
      "A  B  C  D  E  F  \n",
      "A  B  C  D  E  \n",
      "A  B  C  D  \n",
      "A  B  C  \n",
      "A  B  \n",
      "A  \n"
     ]
    }
   ],
   "source": [
    "# Pattern:- 32\n",
    "\n",
    "n = int(input('Enter your rows'))\n",
    "\n",
    "for i in range(n):\n",
    "    for j in range(n-i):\n",
    "        print(chr(65 + j)+ ' ',end = ' ')\n",
    "    print()"
   ]
  },
  {
   "cell_type": "code",
   "execution_count": 137,
   "id": "70e0fdf8-195b-4722-acb9-1304c2525e0d",
   "metadata": {},
   "outputs": [
    {
     "name": "stdin",
     "output_type": "stream",
     "text": [
      "Enter your rows 5\n"
     ]
    },
    {
     "name": "stdout",
     "output_type": "stream",
     "text": [
      "5 4 3 2 1 \n",
      "5 4 3 2 \n",
      "5 4 3 \n",
      "5 4 \n",
      "5 \n"
     ]
    }
   ],
   "source": [
    "# Pattern:- 33\n",
    "\n",
    "n = int(input('Enter your rows'))\n",
    "\n",
    "for i in range(n):\n",
    "    for j in range(n-i):\n",
    "        print(str(n-j),end =' ')\n",
    "    print()\n",
    "    "
   ]
  },
  {
   "cell_type": "code",
   "execution_count": 143,
   "id": "0993f2fb-16be-497d-b589-f19d44c2456b",
   "metadata": {},
   "outputs": [
    {
     "name": "stdin",
     "output_type": "stream",
     "text": [
      "Enter your rows 5\n"
     ]
    },
    {
     "name": "stdout",
     "output_type": "stream",
     "text": [
      "E D C B A \n",
      "E D C B \n",
      "E D C \n",
      "E D \n",
      "E \n"
     ]
    }
   ],
   "source": [
    "# Pattern:- 34\n",
    "n = int(input('Enter your rows'))\n",
    "\n",
    "for i in range(n):\n",
    "    for j in range(n - i):\n",
    "        print(chr(64 + n - j),end =' ')\n",
    "    print()"
   ]
  },
  {
   "cell_type": "markdown",
   "id": "ae9bdfbf-80d2-4075-bcb0-c3b392a3bdff",
   "metadata": {},
   "source": [
    "## Pyramid patterns"
   ]
  },
  {
   "cell_type": "code",
   "execution_count": 150,
   "id": "5154632e-cc62-444b-a31e-fcf59de8e8cd",
   "metadata": {},
   "outputs": [
    {
     "name": "stdin",
     "output_type": "stream",
     "text": [
      "Enter your rows 5\n"
     ]
    },
    {
     "name": "stdout",
     "output_type": "stream",
     "text": [
      "    * \n",
      "   * * \n",
      "  * * * \n",
      " * * * * \n",
      "* * * * * \n"
     ]
    }
   ],
   "source": [
    "# Pattern:- 35\n",
    "n = int(input('Enter your rows'))\n",
    "# no of spaces in every rows = n-i-1\n",
    "# stars to be print in a row = i+1\n",
    "for i in range(n):\n",
    "    print(' '*(n-i-1) + '* '*(i+1))\n",
    "    "
   ]
  },
  {
   "cell_type": "code",
   "execution_count": null,
   "id": "60e98b4a-cc66-48f3-be33-0997a7c451f2",
   "metadata": {},
   "outputs": [],
   "source": []
  }
 ],
 "metadata": {
  "kernelspec": {
   "display_name": "Python 3 (ipykernel)",
   "language": "python",
   "name": "python3"
  },
  "language_info": {
   "codemirror_mode": {
    "name": "ipython",
    "version": 3
   },
   "file_extension": ".py",
   "mimetype": "text/x-python",
   "name": "python",
   "nbconvert_exporter": "python",
   "pygments_lexer": "ipython3",
   "version": "3.11.5"
  }
 },
 "nbformat": 4,
 "nbformat_minor": 5
}
